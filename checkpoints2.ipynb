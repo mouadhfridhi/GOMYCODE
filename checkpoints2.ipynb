{
  "nbformat": 4,
  "nbformat_minor": 0,
  "metadata": {
    "colab": {
      "name": "checkpoints2.ipynb",
      "provenance": []
    },
    "kernelspec": {
      "name": "python3",
      "display_name": "Python 3"
    },
    "language_info": {
      "name": "python"
    }
  },
  "cells": [
    {
      "cell_type": "code",
      "metadata": {
        "colab": {
          "base_uri": "https://localhost:8080/"
        },
        "id": "hsbIQ34UTlvW",
        "outputId": "7b770875-83fe-45b8-bb57-cd7cac8b9780"
      },
      "source": [
        "L=[]\n",
        "for i in range (2000,3201):\n",
        "  if i % 7 == 0 and i % 5 != 0:\n",
        "    L.append(i)\n",
        "L"
      ],
      "execution_count": null,
      "outputs": [
        {
          "output_type": "execute_result",
          "data": {
            "text/plain": [
              "[2002,\n",
              " 2009,\n",
              " 2016,\n",
              " 2023,\n",
              " 2037,\n",
              " 2044,\n",
              " 2051,\n",
              " 2058,\n",
              " 2072,\n",
              " 2079,\n",
              " 2086,\n",
              " 2093,\n",
              " 2107,\n",
              " 2114,\n",
              " 2121,\n",
              " 2128,\n",
              " 2142,\n",
              " 2149,\n",
              " 2156,\n",
              " 2163,\n",
              " 2177,\n",
              " 2184,\n",
              " 2191,\n",
              " 2198,\n",
              " 2212,\n",
              " 2219,\n",
              " 2226,\n",
              " 2233,\n",
              " 2247,\n",
              " 2254,\n",
              " 2261,\n",
              " 2268,\n",
              " 2282,\n",
              " 2289,\n",
              " 2296,\n",
              " 2303,\n",
              " 2317,\n",
              " 2324,\n",
              " 2331,\n",
              " 2338,\n",
              " 2352,\n",
              " 2359,\n",
              " 2366,\n",
              " 2373,\n",
              " 2387,\n",
              " 2394,\n",
              " 2401,\n",
              " 2408,\n",
              " 2422,\n",
              " 2429,\n",
              " 2436,\n",
              " 2443,\n",
              " 2457,\n",
              " 2464,\n",
              " 2471,\n",
              " 2478,\n",
              " 2492,\n",
              " 2499,\n",
              " 2506,\n",
              " 2513,\n",
              " 2527,\n",
              " 2534,\n",
              " 2541,\n",
              " 2548,\n",
              " 2562,\n",
              " 2569,\n",
              " 2576,\n",
              " 2583,\n",
              " 2597,\n",
              " 2604,\n",
              " 2611,\n",
              " 2618,\n",
              " 2632,\n",
              " 2639,\n",
              " 2646,\n",
              " 2653,\n",
              " 2667,\n",
              " 2674,\n",
              " 2681,\n",
              " 2688,\n",
              " 2702,\n",
              " 2709,\n",
              " 2716,\n",
              " 2723,\n",
              " 2737,\n",
              " 2744,\n",
              " 2751,\n",
              " 2758,\n",
              " 2772,\n",
              " 2779,\n",
              " 2786,\n",
              " 2793,\n",
              " 2807,\n",
              " 2814,\n",
              " 2821,\n",
              " 2828,\n",
              " 2842,\n",
              " 2849,\n",
              " 2856,\n",
              " 2863,\n",
              " 2877,\n",
              " 2884,\n",
              " 2891,\n",
              " 2898,\n",
              " 2912,\n",
              " 2919,\n",
              " 2926,\n",
              " 2933,\n",
              " 2947,\n",
              " 2954,\n",
              " 2961,\n",
              " 2968,\n",
              " 2982,\n",
              " 2989,\n",
              " 2996,\n",
              " 3003,\n",
              " 3017,\n",
              " 3024,\n",
              " 3031,\n",
              " 3038,\n",
              " 3052,\n",
              " 3059,\n",
              " 3066,\n",
              " 3073,\n",
              " 3087,\n",
              " 3094,\n",
              " 3101,\n",
              " 3108,\n",
              " 3122,\n",
              " 3129,\n",
              " 3136,\n",
              " 3143,\n",
              " 3157,\n",
              " 3164,\n",
              " 3171,\n",
              " 3178,\n",
              " 3192,\n",
              " 3199]"
            ]
          },
          "metadata": {
            "tags": []
          },
          "execution_count": 10
        }
      ]
    },
    {
      "cell_type": "code",
      "metadata": {
        "id": "Njt1VAt9YB8s"
      },
      "source": [
        "def question_2 (n):\n",
        "  f=1\n",
        "  for i in range (1,n+1):\n",
        "    f=f*i\n",
        "  print(f)"
      ],
      "execution_count": null,
      "outputs": []
    },
    {
      "cell_type": "code",
      "metadata": {
        "colab": {
          "base_uri": "https://localhost:8080/"
        },
        "id": "86FpecJgbpOo",
        "outputId": "b699de34-ad6e-4106-c199-1fdafe3a5f23"
      },
      "source": [
        "question_2(3)"
      ],
      "execution_count": null,
      "outputs": [
        {
          "output_type": "stream",
          "text": [
            "6\n"
          ],
          "name": "stdout"
        }
      ]
    },
    {
      "cell_type": "code",
      "metadata": {
        "colab": {
          "base_uri": "https://localhost:8080/"
        },
        "id": "cYcjPNqcbtPw",
        "outputId": "7d17c976-6011-4b80-bf77-1de21e4688bf"
      },
      "source": [
        "question_2(5)"
      ],
      "execution_count": null,
      "outputs": [
        {
          "output_type": "stream",
          "text": [
            "120\n"
          ],
          "name": "stdout"
        }
      ]
    },
    {
      "cell_type": "code",
      "metadata": {
        "colab": {
          "base_uri": "https://localhost:8080/"
        },
        "id": "XpJk75f0eWFb",
        "outputId": "afe7718f-3273-48cc-8290-b8b3aa31d6f0"
      },
      "source": [
        "import math\n",
        "print(math.factorial(5))"
      ],
      "execution_count": null,
      "outputs": [
        {
          "output_type": "stream",
          "text": [
            "120\n"
          ],
          "name": "stdout"
        }
      ]
    },
    {
      "cell_type": "code",
      "metadata": {
        "colab": {
          "base_uri": "https://localhost:8080/"
        },
        "id": "8F0h1xsffAr3",
        "outputId": "92e48de7-53bb-4db8-abc9-2fc35a79bf36"
      },
      "source": [
        "d={}\n",
        "n=int(input(\"donner la longeur\"))\n",
        "def q3 (n):\n",
        "  for i in range (1,n+1):\n",
        "    d[i]=i*i\n",
        "  print(d)\n",
        "\n",
        "q3(n)"
      ],
      "execution_count": null,
      "outputs": [
        {
          "output_type": "stream",
          "text": [
            "donner la longeur8\n",
            "{1: 1, 2: 4, 3: 9, 4: 16, 5: 25, 6: 36, 7: 49, 8: 64}\n"
          ],
          "name": "stdout"
        }
      ]
    },
    {
      "cell_type": "code",
      "metadata": {
        "colab": {
          "base_uri": "https://localhost:8080/"
        },
        "id": "UormsUKbhUZk",
        "outputId": "4fdbcbdc-910b-47ed-ec2c-9cf800f5dac0"
      },
      "source": [
        "q3(8)"
      ],
      "execution_count": null,
      "outputs": [
        {
          "output_type": "stream",
          "text": [
            "{1: 1, 2: 4, 3: 9, 4: 16, 5: 25, 6: 36, 7: 49, 8: 64}\n"
          ],
          "name": "stdout"
        }
      ]
    },
    {
      "cell_type": "code",
      "metadata": {
        "colab": {
          "base_uri": "https://localhost:8080/"
        },
        "id": "IBBi43zOiAKv",
        "outputId": "29356aa9-5d60-4d40-cc6e-0558f8cd8eb0"
      },
      "source": [
        "n=int(input(\"donner n\"))\n",
        "st=input(\"donner str\")\n",
        "st1=\"\"\n",
        "for i in range (0,n):\n",
        "  st1=st[i]+st1\n",
        "for i in range (n+1,len(st)):\n",
        "  st1=st[i]+st1\n",
        "print(st1)\n"
      ],
      "execution_count": null,
      "outputs": [
        {
          "output_type": "stream",
          "text": [
            "donner n5\n",
            "donner strazertyui\n",
            "iutreza\n"
          ],
          "name": "stdout"
        }
      ]
    },
    {
      "cell_type": "code",
      "metadata": {
        "colab": {
          "base_uri": "https://localhost:8080/"
        },
        "id": "UQF6Cis2uRMw",
        "outputId": "1277bee2-4753-4c40-e522-ac87922a5d70"
      },
      "source": [
        "import numpy as np\n",
        "\n",
        "matrice1=np.random.randint(1,10,(2,2))\n",
        "matrice2=np.random.randint(1,10,(2,2))\n",
        "print(np.cov(matrice1,matrice2))"
      ],
      "execution_count": null,
      "outputs": [
        {
          "output_type": "stream",
          "text": [
            "[[ 2.  6.  4.  0.]\n",
            " [ 6. 18. 12.  0.]\n",
            " [ 4. 12.  8.  0.]\n",
            " [ 0.  0.  0.  0.]]\n"
          ],
          "name": "stdout"
        }
      ]
    },
    {
      "cell_type": "code",
      "metadata": {
        "colab": {
          "base_uri": "https://localhost:8080/"
        },
        "id": "DW9I4nTUz1gU",
        "outputId": "1605a245-cfba-411e-f3b4-b344275e320b"
      },
      "source": [
        "dir(matrice)"
      ],
      "execution_count": null,
      "outputs": [
        {
          "output_type": "execute_result",
          "data": {
            "text/plain": [
              "['T',\n",
              " '__abs__',\n",
              " '__add__',\n",
              " '__and__',\n",
              " '__array__',\n",
              " '__array_finalize__',\n",
              " '__array_function__',\n",
              " '__array_interface__',\n",
              " '__array_prepare__',\n",
              " '__array_priority__',\n",
              " '__array_struct__',\n",
              " '__array_ufunc__',\n",
              " '__array_wrap__',\n",
              " '__bool__',\n",
              " '__class__',\n",
              " '__complex__',\n",
              " '__contains__',\n",
              " '__copy__',\n",
              " '__deepcopy__',\n",
              " '__delattr__',\n",
              " '__delitem__',\n",
              " '__dir__',\n",
              " '__divmod__',\n",
              " '__doc__',\n",
              " '__eq__',\n",
              " '__float__',\n",
              " '__floordiv__',\n",
              " '__format__',\n",
              " '__ge__',\n",
              " '__getattribute__',\n",
              " '__getitem__',\n",
              " '__gt__',\n",
              " '__hash__',\n",
              " '__iadd__',\n",
              " '__iand__',\n",
              " '__ifloordiv__',\n",
              " '__ilshift__',\n",
              " '__imatmul__',\n",
              " '__imod__',\n",
              " '__imul__',\n",
              " '__index__',\n",
              " '__init__',\n",
              " '__init_subclass__',\n",
              " '__int__',\n",
              " '__invert__',\n",
              " '__ior__',\n",
              " '__ipow__',\n",
              " '__irshift__',\n",
              " '__isub__',\n",
              " '__iter__',\n",
              " '__itruediv__',\n",
              " '__ixor__',\n",
              " '__le__',\n",
              " '__len__',\n",
              " '__lshift__',\n",
              " '__lt__',\n",
              " '__matmul__',\n",
              " '__mod__',\n",
              " '__mul__',\n",
              " '__ne__',\n",
              " '__neg__',\n",
              " '__new__',\n",
              " '__or__',\n",
              " '__pos__',\n",
              " '__pow__',\n",
              " '__radd__',\n",
              " '__rand__',\n",
              " '__rdivmod__',\n",
              " '__reduce__',\n",
              " '__reduce_ex__',\n",
              " '__repr__',\n",
              " '__rfloordiv__',\n",
              " '__rlshift__',\n",
              " '__rmatmul__',\n",
              " '__rmod__',\n",
              " '__rmul__',\n",
              " '__ror__',\n",
              " '__rpow__',\n",
              " '__rrshift__',\n",
              " '__rshift__',\n",
              " '__rsub__',\n",
              " '__rtruediv__',\n",
              " '__rxor__',\n",
              " '__setattr__',\n",
              " '__setitem__',\n",
              " '__setstate__',\n",
              " '__sizeof__',\n",
              " '__str__',\n",
              " '__sub__',\n",
              " '__subclasshook__',\n",
              " '__truediv__',\n",
              " '__xor__',\n",
              " 'all',\n",
              " 'any',\n",
              " 'argmax',\n",
              " 'argmin',\n",
              " 'argpartition',\n",
              " 'argsort',\n",
              " 'astype',\n",
              " 'base',\n",
              " 'byteswap',\n",
              " 'choose',\n",
              " 'clip',\n",
              " 'compress',\n",
              " 'conj',\n",
              " 'conjugate',\n",
              " 'copy',\n",
              " 'ctypes',\n",
              " 'cumprod',\n",
              " 'cumsum',\n",
              " 'data',\n",
              " 'diagonal',\n",
              " 'dot',\n",
              " 'dtype',\n",
              " 'dump',\n",
              " 'dumps',\n",
              " 'fill',\n",
              " 'flags',\n",
              " 'flat',\n",
              " 'flatten',\n",
              " 'getfield',\n",
              " 'imag',\n",
              " 'item',\n",
              " 'itemset',\n",
              " 'itemsize',\n",
              " 'max',\n",
              " 'mean',\n",
              " 'min',\n",
              " 'nbytes',\n",
              " 'ndim',\n",
              " 'newbyteorder',\n",
              " 'nonzero',\n",
              " 'partition',\n",
              " 'prod',\n",
              " 'ptp',\n",
              " 'put',\n",
              " 'ravel',\n",
              " 'real',\n",
              " 'repeat',\n",
              " 'reshape',\n",
              " 'resize',\n",
              " 'round',\n",
              " 'searchsorted',\n",
              " 'setfield',\n",
              " 'setflags',\n",
              " 'shape',\n",
              " 'size',\n",
              " 'sort',\n",
              " 'squeeze',\n",
              " 'std',\n",
              " 'strides',\n",
              " 'sum',\n",
              " 'swapaxes',\n",
              " 'take',\n",
              " 'tobytes',\n",
              " 'tofile',\n",
              " 'tolist',\n",
              " 'tostring',\n",
              " 'trace',\n",
              " 'transpose',\n",
              " 'var',\n",
              " 'view']"
            ]
          },
          "metadata": {
            "tags": []
          },
          "execution_count": 54
        }
      ]
    },
    {
      "cell_type": "code",
      "metadata": {
        "id": "HpTs1IWsSs7R"
      },
      "source": [
        ""
      ],
      "execution_count": null,
      "outputs": []
    },
    {
      "cell_type": "code",
      "metadata": {
        "id": "9vL-XPFZStOT"
      },
      "source": [
        ""
      ],
      "execution_count": null,
      "outputs": []
    },
    {
      "cell_type": "code",
      "metadata": {
        "colab": {
          "base_uri": "https://localhost:8080/"
        },
        "id": "kmwmLTMD0O66",
        "outputId": "301da343-27fd-4894-a8db-b23b32bacecd"
      },
      "source": [
        "L=list(input(\"donner la liste\"))"
      ],
      "execution_count": null,
      "outputs": [
        {
          "output_type": "stream",
          "text": [
            "donner la liste1,10,5,5\n"
          ],
          "name": "stdout"
        }
      ]
    },
    {
      "cell_type": "code",
      "metadata": {
        "colab": {
          "base_uri": "https://localhost:8080/"
        },
        "id": "1Aq8ESqf5eA2",
        "outputId": "84405919-3cd0-429f-a5d7-f917b4d3e72c"
      },
      "source": [
        "print(L)"
      ],
      "execution_count": null,
      "outputs": [
        {
          "output_type": "stream",
          "text": [
            "['1', ',', '1', '0', ',', '5', ',', '5']\n"
          ],
          "name": "stdout"
        }
      ]
    },
    {
      "cell_type": "code",
      "metadata": {
        "colab": {
          "base_uri": "https://localhost:8080/"
        },
        "id": "vDMl5CxW5kd8",
        "outputId": "2599c837-082f-4dfc-805d-c12a062b7745"
      },
      "source": [
        "L=list(input(\"donner la liste\"))\n"
      ],
      "execution_count": null,
      "outputs": [
        {
          "output_type": "stream",
          "text": [
            "donner la liste1 10 52 64 2 \n"
          ],
          "name": "stdout"
        }
      ]
    },
    {
      "cell_type": "code",
      "metadata": {
        "colab": {
          "base_uri": "https://localhost:8080/",
          "height": 166
        },
        "id": "caoUKE0S5rsk",
        "outputId": "a60269d6-1df8-43f1-8f84-0698c7437237"
      },
      "source": [
        "PRINT(L)"
      ],
      "execution_count": null,
      "outputs": [
        {
          "output_type": "error",
          "ename": "NameError",
          "evalue": "ignored",
          "traceback": [
            "\u001b[0;31m---------------------------------------------------------------------------\u001b[0m",
            "\u001b[0;31mNameError\u001b[0m                                 Traceback (most recent call last)",
            "\u001b[0;32m<ipython-input-61-a03b5ffef678>\u001b[0m in \u001b[0;36m<module>\u001b[0;34m()\u001b[0m\n\u001b[0;32m----> 1\u001b[0;31m \u001b[0mPRINT\u001b[0m\u001b[0;34m(\u001b[0m\u001b[0mL\u001b[0m\u001b[0;34m)\u001b[0m\u001b[0;34m\u001b[0m\u001b[0;34m\u001b[0m\u001b[0m\n\u001b[0m",
            "\u001b[0;31mNameError\u001b[0m: name 'PRINT' is not defined"
          ]
        }
      ]
    },
    {
      "cell_type": "code",
      "metadata": {
        "colab": {
          "base_uri": "https://localhost:8080/"
        },
        "id": "fdrq29Iu5wsA",
        "outputId": "dcaeede3-87d7-4329-b891-dd913a96bc05"
      },
      "source": [
        "print(L)"
      ],
      "execution_count": null,
      "outputs": [
        {
          "output_type": "stream",
          "text": [
            "['1', ' ', '1', '0', ' ', '5', '2', ' ', '6', '4', ' ', '2', ' ']\n"
          ],
          "name": "stdout"
        }
      ]
    },
    {
      "cell_type": "code",
      "metadata": {
        "colab": {
          "base_uri": "https://localhost:8080/",
          "height": 253
        },
        "id": "Qk0FjVmt51Ca",
        "outputId": "9170c9a9-8833-4cab-a92b-213d8b619acb"
      },
      "source": [
        "import numpy as np\n",
        "n=int(input(\"donner la longeur\"))\n",
        "L1=[]\n",
        "for i in range(0,(n-1)):\n",
        "  e=int(input(\"entrer l'element\"))\n",
        "  L1.append(e)\n",
        "  L1[i]=np.sqrt(2*50*L[i]/30)\n",
        "print(L)\n"
      ],
      "execution_count": null,
      "outputs": [
        {
          "output_type": "stream",
          "text": [
            "donner la longeur5\n",
            "entrer l'element1\n"
          ],
          "name": "stdout"
        },
        {
          "output_type": "error",
          "ename": "TypeError",
          "evalue": "ignored",
          "traceback": [
            "\u001b[0;31m---------------------------------------------------------------------------\u001b[0m",
            "\u001b[0;31mTypeError\u001b[0m                                 Traceback (most recent call last)",
            "\u001b[0;32m<ipython-input-70-88581fddfb9e>\u001b[0m in \u001b[0;36m<module>\u001b[0;34m()\u001b[0m\n\u001b[1;32m      5\u001b[0m   \u001b[0me\u001b[0m\u001b[0;34m=\u001b[0m\u001b[0mint\u001b[0m\u001b[0;34m(\u001b[0m\u001b[0minput\u001b[0m\u001b[0;34m(\u001b[0m\u001b[0;34m\"entrer l'element\"\u001b[0m\u001b[0;34m)\u001b[0m\u001b[0;34m)\u001b[0m\u001b[0;34m\u001b[0m\u001b[0;34m\u001b[0m\u001b[0m\n\u001b[1;32m      6\u001b[0m   \u001b[0mL1\u001b[0m\u001b[0;34m.\u001b[0m\u001b[0mappend\u001b[0m\u001b[0;34m(\u001b[0m\u001b[0me\u001b[0m\u001b[0;34m)\u001b[0m\u001b[0;34m\u001b[0m\u001b[0;34m\u001b[0m\u001b[0m\n\u001b[0;32m----> 7\u001b[0;31m   \u001b[0mL1\u001b[0m\u001b[0;34m[\u001b[0m\u001b[0mi\u001b[0m\u001b[0;34m]\u001b[0m\u001b[0;34m=\u001b[0m\u001b[0mnp\u001b[0m\u001b[0;34m.\u001b[0m\u001b[0msqrt\u001b[0m\u001b[0;34m(\u001b[0m\u001b[0;36m2\u001b[0m\u001b[0;34m*\u001b[0m\u001b[0;36m50\u001b[0m\u001b[0;34m*\u001b[0m\u001b[0mL\u001b[0m\u001b[0;34m[\u001b[0m\u001b[0mi\u001b[0m\u001b[0;34m]\u001b[0m\u001b[0;34m/\u001b[0m\u001b[0;36m30\u001b[0m\u001b[0;34m)\u001b[0m\u001b[0;34m\u001b[0m\u001b[0;34m\u001b[0m\u001b[0m\n\u001b[0m\u001b[1;32m      8\u001b[0m \u001b[0mprint\u001b[0m\u001b[0;34m(\u001b[0m\u001b[0mL\u001b[0m\u001b[0;34m)\u001b[0m\u001b[0;34m\u001b[0m\u001b[0;34m\u001b[0m\u001b[0m\n",
            "\u001b[0;31mTypeError\u001b[0m: unsupported operand type(s) for /: 'str' and 'int'"
          ]
        }
      ]
    },
    {
      "cell_type": "code",
      "metadata": {
        "id": "j0mPak5u7bR6"
      },
      "source": [
        "5"
      ],
      "execution_count": null,
      "outputs": []
    }
  ]
}